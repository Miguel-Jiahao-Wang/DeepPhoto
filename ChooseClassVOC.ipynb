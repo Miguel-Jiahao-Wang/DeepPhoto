{
 "cells": [
  {
   "cell_type": "code",
   "execution_count": 1,
   "metadata": {},
   "outputs": [],
   "source": [
    "import cv2\n",
    "import matplotlib.pyplot as plt\n",
    "import numpy as np\n",
    "import torch\n",
    "\n",
    "from PIL import Image\n",
    "import os"
   ]
  },
  {
   "cell_type": "code",
   "execution_count": 2,
   "metadata": {},
   "outputs": [],
   "source": [
    "def selectClass(rpath, wpath, ObjClass = \"person\"):\n",
    "    # RGB\n",
    "    cmap = {\"background\": (0, 0, 0),\n",
    "            \"aeroplane\":(128, 0, 0),\n",
    "            \"bicycle\":(0, 128, 0), \n",
    "            \"bird\": (128, 128, 0),\n",
    "            \"boat\": (0, 0, 128),\n",
    "            \"bottle\": (128, 0, 128),\n",
    "            \"bus\": (0, 128, 128),\n",
    "            \"car\": (128, 128, 128),\n",
    "            \"cat\": (64, 0, 0),\n",
    "            \"chair\":  (192, 0, 0), \n",
    "            \"cow\": (64, 128, 0),\n",
    "            \"dining table\": (192, 128, 0),\n",
    "            \"dog\": (64, 0, 128),\n",
    "            \"horse\": (192, 0, 128),\n",
    "            \"motorbike\": (64, 128, 128),\n",
    "            \"person\": (192, 128, 128),\n",
    "            \"potted plant\": (0, 64, 0),\n",
    "            \"sheep\": (128, 64, 0),\n",
    "            \"sofa\": (0, 192, 0),\n",
    "            \"train\": (128, 192, 0),\n",
    "            \"tv/monitor\": (0, 64, 128)\n",
    "            }\n",
    "\n",
    "    ClassIdx = cmap[ObjClass]\n",
    "\n",
    "    for image in os.listdir(rpath):\n",
    "        #img = np.array(Image.open(rpath + image))\n",
    "        img = cv2.imread(rpath + image)\n",
    "        b,g,r = cv2.split(img)\n",
    "        if (ClassIdx[2] in b) and (ClassIdx[1] in g) and (ClassIdx[0] in r):\n",
    "            #b[((b != ClassIdx[2]) | (g!=ClassIdx[1]) | (r!=ClassIdx[0])) & ((b != 192) | (g!=224) | (r!=224))] = 0\n",
    "            #g[((b != ClassIdx[2]) | (g!=ClassIdx[1]) | (r!=ClassIdx[0])) & ((b != 192) | (g!=224) | (r!=224))] = 0\n",
    "            #r[((b != ClassIdx[2]) | (g!=ClassIdx[1]) | (r!=ClassIdx[0])) & ((b != 192) | (g!=224) | (r!=224))] = 0\n",
    "            b[((b != ClassIdx[2]) | (g!=ClassIdx[1]) | (r!=ClassIdx[0]))] = 0\n",
    "            g[((b != ClassIdx[2]) | (g!=ClassIdx[1]) | (r!=ClassIdx[0]))] = 0\n",
    "            r[((b != ClassIdx[2]) | (g!=ClassIdx[1]) | (r!=ClassIdx[0]))] = 0\n",
    "\n",
    "            im = np.stack([r,g,b], axis = 2)\n",
    "            im = Image.fromarray(im)\n",
    "            im.save(wpath + image)"
   ]
  },
  {
   "cell_type": "code",
   "execution_count": 3,
   "metadata": {},
   "outputs": [],
   "source": [
    "rpath = r'../SegmentationClass/'\n",
    "wpath = r\"./\"\n",
    "\n",
    "selectClass(rpath, wpath)"
   ]
  }
 ],
 "metadata": {
  "kernelspec": {
   "display_name": "Python 3",
   "language": "python",
   "name": "python3"
  },
  "language_info": {
   "codemirror_mode": {
    "name": "ipython",
    "version": 3
   },
   "file_extension": ".py",
   "mimetype": "text/x-python",
   "name": "python",
   "nbconvert_exporter": "python",
   "pygments_lexer": "ipython3",
   "version": "3.7.4"
  }
 },
 "nbformat": 4,
 "nbformat_minor": 2
}
